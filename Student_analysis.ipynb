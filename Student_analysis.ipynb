{
 "cells": [
  {
   "cell_type": "code",
   "execution_count": 1,
   "metadata": {},
   "outputs": [],
   "source": [
    "# Dependencies\n",
    "import pandas as pd\n",
    "import numpy as np\n",
    "import csv\n",
    "from datetime import datetime as dt\n",
    "import unicodecsv"
   ]
  },
  {
   "cell_type": "markdown",
   "metadata": {},
   "source": [
    "### Loading CSV files"
   ]
  },
  {
   "cell_type": "code",
   "execution_count": 2,
   "metadata": {},
   "outputs": [],
   "source": [
    "# Define a function to read csv files\n",
    "def read_csv(file_name):\n",
    "    with open(file_name, 'rb') as f:\n",
    "        reader = unicodecsv.DictReader(f)\n",
    "        return list(reader)"
   ]
  },
  {
   "cell_type": "code",
   "execution_count": 3,
   "metadata": {},
   "outputs": [],
   "source": [
    "enrollments = read_csv(\"enrollments.csv\")\n",
    "daily_engagement = read_csv(\"daily_engagement.csv\")\n",
    "project_submissions = read_csv(\"project_submissions.csv\")"
   ]
  },
  {
   "cell_type": "code",
   "execution_count": 4,
   "metadata": {},
   "outputs": [
    {
     "data": {
      "text/plain": [
       "OrderedDict([('account_key', '448'),\n",
       "             ('status', 'canceled'),\n",
       "             ('join_date', '2014-11-10'),\n",
       "             ('cancel_date', '2015-01-14'),\n",
       "             ('days_to_cancel', '65'),\n",
       "             ('is_udacity', 'True'),\n",
       "             ('is_canceled', 'True')])"
      ]
     },
     "execution_count": 4,
     "metadata": {},
     "output_type": "execute_result"
    }
   ],
   "source": [
    "enrollments[0]"
   ]
  },
  {
   "cell_type": "code",
   "execution_count": 5,
   "metadata": {},
   "outputs": [
    {
     "data": {
      "text/plain": [
       "OrderedDict([('acct', '0'),\n",
       "             ('utc_date', '2015-01-09'),\n",
       "             ('num_courses_visited', '1.0'),\n",
       "             ('total_minutes_visited', '11.6793745'),\n",
       "             ('lessons_completed', '0.0'),\n",
       "             ('projects_completed', '0.0')])"
      ]
     },
     "execution_count": 5,
     "metadata": {},
     "output_type": "execute_result"
    }
   ],
   "source": [
    "daily_engagement[0]"
   ]
  },
  {
   "cell_type": "code",
   "execution_count": 6,
   "metadata": {},
   "outputs": [
    {
     "data": {
      "text/plain": [
       "OrderedDict([('creation_date', '2015-01-14'),\n",
       "             ('completion_date', '2015-01-16'),\n",
       "             ('assigned_rating', 'UNGRADED'),\n",
       "             ('account_key', '256'),\n",
       "             ('lesson_key', '3176718735'),\n",
       "             ('processing_state', 'EVALUATED')])"
      ]
     },
     "execution_count": 6,
     "metadata": {},
     "output_type": "execute_result"
    }
   ],
   "source": [
    "project_submissions[0]"
   ]
  },
  {
   "cell_type": "markdown",
   "metadata": {},
   "source": [
    "### Fixing Data Types"
   ]
  },
  {
   "cell_type": "code",
   "execution_count": 7,
   "metadata": {},
   "outputs": [],
   "source": [
    "# function for fixing the datetime type\n",
    "def parse_date(date):\n",
    "    if date == '':\n",
    "        return None\n",
    "    else:\n",
    "        return dt.strptime(date, '%Y-%m-%d')\n",
    "    \n",
    "# function for fixing the object data type\n",
    "def parse_maybe_int(i):\n",
    "    if i == '':\n",
    "        return None\n",
    "    else:\n",
    "        return int(i)"
   ]
  },
  {
   "cell_type": "code",
   "execution_count": 8,
   "metadata": {},
   "outputs": [],
   "source": [
    "# Clean up the enrollement data\n",
    "for enrollment in enrollments:\n",
    "    enrollment['join_date'] = parse_date(enrollment['join_date'])\n",
    "    enrollment['cancel_date'] = parse_date(enrollment['cancel_date'])\n",
    "    enrollment['days_to_cancel'] = parse_maybe_int(enrollment['days_to_cancel'])\n",
    "    enrollment['is_udacity'] = enrollment['is_udacity']==\"True\"\n",
    "    enrollment['is_canceled'] = enrollment['is_canceled']==\"True\" "
   ]
  },
  {
   "cell_type": "code",
   "execution_count": 9,
   "metadata": {},
   "outputs": [
    {
     "data": {
      "text/plain": [
       "OrderedDict([('account_key', '448'),\n",
       "             ('status', 'canceled'),\n",
       "             ('join_date', datetime.datetime(2014, 11, 10, 0, 0)),\n",
       "             ('cancel_date', datetime.datetime(2015, 1, 14, 0, 0)),\n",
       "             ('days_to_cancel', 65),\n",
       "             ('is_udacity', True),\n",
       "             ('is_canceled', True)])"
      ]
     },
     "execution_count": 9,
     "metadata": {},
     "output_type": "execute_result"
    }
   ],
   "source": [
    "enrollments[0]"
   ]
  },
  {
   "cell_type": "code",
   "execution_count": 10,
   "metadata": {},
   "outputs": [],
   "source": [
    "# Clean up the daily_engagement data\n",
    "for engagement in daily_engagement:\n",
    "    engagement['utc_date'] = parse_date(engagement['utc_date'])\n",
    "    engagement['lessons_completed'] = int(float(engagement['lessons_completed']))\n",
    "    engagement['num_courses_visited'] = int(float(engagement['num_courses_visited']))\n",
    "    engagement['projects_completed'] = int(float(engagement['projects_completed']))\n",
    "    engagement['total_minutes_visited'] = float(engagement['total_minutes_visited'])    "
   ]
  },
  {
   "cell_type": "code",
   "execution_count": 11,
   "metadata": {},
   "outputs": [],
   "source": [
    "# Clean up the project_submissions data\n",
    "for submissions in project_submissions:\n",
    "    submissions['creation_date'] = parse_date(submissions['creation_date'])\n",
    "    submissions['completion_date'] = parse_date(submissions['completion_date'])   "
   ]
  },
  {
   "cell_type": "code",
   "execution_count": 12,
   "metadata": {},
   "outputs": [],
   "source": [
    "# Let's check how many rows we have in the tables\n",
    "def num_rows(data):\n",
    "    return len(data)"
   ]
  },
  {
   "cell_type": "code",
   "execution_count": 13,
   "metadata": {},
   "outputs": [],
   "source": [
    "enrollment_num_row = num_rows(enrollments)\n",
    "engagement_num_row = num_rows(daily_engagement)\n",
    "submission_num_row = num_rows(project_submissions)"
   ]
  },
  {
   "cell_type": "code",
   "execution_count": 14,
   "metadata": {},
   "outputs": [
    {
     "name": "stdout",
     "output_type": "stream",
     "text": [
      "Total number of rows for enrollments table is 1640\n",
      "Total number of rows for daily engagement table is 136240\n",
      "Total number of rows for project submissions table is 3642\n"
     ]
    }
   ],
   "source": [
    "print('Total number of rows for enrollments table is {}'.format(enrollment_num_row))\n",
    "print('Total number of rows for daily engagement table is {}'.format(engagement_num_row))\n",
    "print('Total number of rows for project submissions table is {}'.format(submission_num_row))"
   ]
  },
  {
   "cell_type": "code",
   "execution_count": 15,
   "metadata": {},
   "outputs": [],
   "source": [
    "# Let's change the column name of 'acct' to 'account_key' in engagement table\n",
    "for column in daily_engagement:\n",
    "    column['account_key'] = column['acct']\n",
    "    del[column['acct']]"
   ]
  },
  {
   "cell_type": "code",
   "execution_count": 16,
   "metadata": {},
   "outputs": [
    {
     "data": {
      "text/plain": [
       "OrderedDict([('utc_date', datetime.datetime(2015, 1, 9, 0, 0)),\n",
       "             ('num_courses_visited', 1),\n",
       "             ('total_minutes_visited', 11.6793745),\n",
       "             ('lessons_completed', 0),\n",
       "             ('projects_completed', 0),\n",
       "             ('account_key', '0')])"
      ]
     },
     "execution_count": 16,
     "metadata": {},
     "output_type": "execute_result"
    }
   ],
   "source": [
    "daily_engagement[0]"
   ]
  },
  {
   "cell_type": "code",
   "execution_count": 17,
   "metadata": {},
   "outputs": [],
   "source": [
    "# Let's check the number of unique students of each table (account keys)\n",
    "def find_unique_students(data):\n",
    "    unique_students = set()\n",
    "    for data_point in data:\n",
    "        unique_students.add(data_point['account_key'])\n",
    "    return unique_students"
   ]
  },
  {
   "cell_type": "code",
   "execution_count": 18,
   "metadata": {},
   "outputs": [],
   "source": [
    "enrollment_unique_student = find_unique_students(enrollments)\n",
    "engagement_unique_student = find_unique_students(daily_engagement)\n",
    "submission_unique_student = find_unique_students(project_submissions)"
   ]
  },
  {
   "cell_type": "code",
   "execution_count": 19,
   "metadata": {},
   "outputs": [
    {
     "name": "stdout",
     "output_type": "stream",
     "text": [
      "The number of unique students in enrollment table is 1302\n",
      "The number of unique students in daily engagement table is 1237\n",
      "The number of unique students in project submissions table is 743\n"
     ]
    }
   ],
   "source": [
    "print('The number of unique students in enrollment table is {}'.format(len(enrollment_unique_student)))\n",
    "print('The number of unique students in daily engagement table is {}'.format(len(engagement_unique_student)))\n",
    "print('The number of unique students in project submissions table is {}'.format(len(submission_unique_student)))"
   ]
  },
  {
   "cell_type": "markdown",
   "metadata": {},
   "source": [
    "We can see there're different number of unique students in tables and there should be a problem there.\n"
   ]
  },
  {
   "cell_type": "code",
   "execution_count": 20,
   "metadata": {},
   "outputs": [
    {
     "data": {
      "text/plain": [
       "[OrderedDict([('account_key', '1219'),\n",
       "              ('status', 'canceled'),\n",
       "              ('join_date', datetime.datetime(2014, 11, 12, 0, 0)),\n",
       "              ('cancel_date', datetime.datetime(2014, 11, 12, 0, 0)),\n",
       "              ('days_to_cancel', 0),\n",
       "              ('is_udacity', False),\n",
       "              ('is_canceled', True)]),\n",
       " OrderedDict([('account_key', '871'),\n",
       "              ('status', 'canceled'),\n",
       "              ('join_date', datetime.datetime(2014, 11, 13, 0, 0)),\n",
       "              ('cancel_date', datetime.datetime(2014, 11, 13, 0, 0)),\n",
       "              ('days_to_cancel', 0),\n",
       "              ('is_udacity', False),\n",
       "              ('is_canceled', True)]),\n",
       " OrderedDict([('account_key', '1218'),\n",
       "              ('status', 'canceled'),\n",
       "              ('join_date', datetime.datetime(2014, 11, 15, 0, 0)),\n",
       "              ('cancel_date', datetime.datetime(2014, 11, 15, 0, 0)),\n",
       "              ('days_to_cancel', 0),\n",
       "              ('is_udacity', False),\n",
       "              ('is_canceled', True)]),\n",
       " OrderedDict([('account_key', '654'),\n",
       "              ('status', 'canceled'),\n",
       "              ('join_date', datetime.datetime(2014, 12, 4, 0, 0)),\n",
       "              ('cancel_date', datetime.datetime(2014, 12, 4, 0, 0)),\n",
       "              ('days_to_cancel', 0),\n",
       "              ('is_udacity', False),\n",
       "              ('is_canceled', True)]),\n",
       " OrderedDict([('account_key', '654'),\n",
       "              ('status', 'canceled'),\n",
       "              ('join_date', datetime.datetime(2014, 12, 4, 0, 0)),\n",
       "              ('cancel_date', datetime.datetime(2014, 12, 4, 0, 0)),\n",
       "              ('days_to_cancel', 0),\n",
       "              ('is_udacity', False),\n",
       "              ('is_canceled', True)]),\n",
       " OrderedDict([('account_key', '654'),\n",
       "              ('status', 'canceled'),\n",
       "              ('join_date', datetime.datetime(2014, 12, 3, 0, 0)),\n",
       "              ('cancel_date', datetime.datetime(2014, 12, 3, 0, 0)),\n",
       "              ('days_to_cancel', 0),\n",
       "              ('is_udacity', False),\n",
       "              ('is_canceled', True)]),\n",
       " OrderedDict([('account_key', '964'),\n",
       "              ('status', 'canceled'),\n",
       "              ('join_date', datetime.datetime(2014, 12, 4, 0, 0)),\n",
       "              ('cancel_date', datetime.datetime(2014, 12, 4, 0, 0)),\n",
       "              ('days_to_cancel', 0),\n",
       "              ('is_udacity', False),\n",
       "              ('is_canceled', True)]),\n",
       " OrderedDict([('account_key', '817'),\n",
       "              ('status', 'canceled'),\n",
       "              ('join_date', datetime.datetime(2014, 12, 9, 0, 0)),\n",
       "              ('cancel_date', datetime.datetime(2014, 12, 9, 0, 0)),\n",
       "              ('days_to_cancel', 0),\n",
       "              ('is_udacity', False),\n",
       "              ('is_canceled', True)]),\n",
       " OrderedDict([('account_key', '1171'),\n",
       "              ('status', 'canceled'),\n",
       "              ('join_date', datetime.datetime(2015, 1, 7, 0, 0)),\n",
       "              ('cancel_date', datetime.datetime(2015, 1, 7, 0, 0)),\n",
       "              ('days_to_cancel', 0),\n",
       "              ('is_udacity', False),\n",
       "              ('is_canceled', True)]),\n",
       " OrderedDict([('account_key', '884'),\n",
       "              ('status', 'canceled'),\n",
       "              ('join_date', datetime.datetime(2015, 1, 8, 0, 0)),\n",
       "              ('cancel_date', datetime.datetime(2015, 1, 8, 0, 0)),\n",
       "              ('days_to_cancel', 0),\n",
       "              ('is_udacity', False),\n",
       "              ('is_canceled', True)]),\n",
       " OrderedDict([('account_key', '875'),\n",
       "              ('status', 'canceled'),\n",
       "              ('join_date', datetime.datetime(2014, 11, 17, 0, 0)),\n",
       "              ('cancel_date', datetime.datetime(2014, 11, 17, 0, 0)),\n",
       "              ('days_to_cancel', 0),\n",
       "              ('is_udacity', False),\n",
       "              ('is_canceled', True)]),\n",
       " OrderedDict([('account_key', '1120'),\n",
       "              ('status', 'canceled'),\n",
       "              ('join_date', datetime.datetime(2014, 12, 4, 0, 0)),\n",
       "              ('cancel_date', datetime.datetime(2014, 12, 4, 0, 0)),\n",
       "              ('days_to_cancel', 0),\n",
       "              ('is_udacity', False),\n",
       "              ('is_canceled', True)]),\n",
       " OrderedDict([('account_key', '728'),\n",
       "              ('status', 'canceled'),\n",
       "              ('join_date', datetime.datetime(2014, 12, 5, 0, 0)),\n",
       "              ('cancel_date', datetime.datetime(2014, 12, 5, 0, 0)),\n",
       "              ('days_to_cancel', 0),\n",
       "              ('is_udacity', False),\n",
       "              ('is_canceled', True)]),\n",
       " OrderedDict([('account_key', '1191'),\n",
       "              ('status', 'canceled'),\n",
       "              ('join_date', datetime.datetime(2015, 1, 11, 0, 0)),\n",
       "              ('cancel_date', datetime.datetime(2015, 1, 11, 0, 0)),\n",
       "              ('days_to_cancel', 0),\n",
       "              ('is_udacity', False),\n",
       "              ('is_canceled', True)]),\n",
       " OrderedDict([('account_key', '1304'),\n",
       "              ('status', 'canceled'),\n",
       "              ('join_date', datetime.datetime(2015, 1, 10, 0, 0)),\n",
       "              ('cancel_date', datetime.datetime(2015, 3, 10, 0, 0)),\n",
       "              ('days_to_cancel', 59),\n",
       "              ('is_udacity', True),\n",
       "              ('is_canceled', True)]),\n",
       " OrderedDict([('account_key', '1304'),\n",
       "              ('status', 'canceled'),\n",
       "              ('join_date', datetime.datetime(2015, 3, 10, 0, 0)),\n",
       "              ('cancel_date', datetime.datetime(2015, 6, 17, 0, 0)),\n",
       "              ('days_to_cancel', 99),\n",
       "              ('is_udacity', True),\n",
       "              ('is_canceled', True)]),\n",
       " OrderedDict([('account_key', '1010'),\n",
       "              ('status', 'canceled'),\n",
       "              ('join_date', datetime.datetime(2015, 1, 11, 0, 0)),\n",
       "              ('cancel_date', datetime.datetime(2015, 1, 11, 0, 0)),\n",
       "              ('days_to_cancel', 0),\n",
       "              ('is_udacity', False),\n",
       "              ('is_canceled', True)]),\n",
       " OrderedDict([('account_key', '841'),\n",
       "              ('status', 'canceled'),\n",
       "              ('join_date', datetime.datetime(2014, 11, 12, 0, 0)),\n",
       "              ('cancel_date', datetime.datetime(2014, 11, 12, 0, 0)),\n",
       "              ('days_to_cancel', 0),\n",
       "              ('is_udacity', False),\n",
       "              ('is_canceled', True)]),\n",
       " OrderedDict([('account_key', '707'),\n",
       "              ('status', 'canceled'),\n",
       "              ('join_date', datetime.datetime(2014, 12, 3, 0, 0)),\n",
       "              ('cancel_date', datetime.datetime(2014, 12, 3, 0, 0)),\n",
       "              ('days_to_cancel', 0),\n",
       "              ('is_udacity', False),\n",
       "              ('is_canceled', True)]),\n",
       " OrderedDict([('account_key', '717'),\n",
       "              ('status', 'canceled'),\n",
       "              ('join_date', datetime.datetime(2014, 12, 4, 0, 0)),\n",
       "              ('cancel_date', datetime.datetime(2014, 12, 4, 0, 0)),\n",
       "              ('days_to_cancel', 0),\n",
       "              ('is_udacity', False),\n",
       "              ('is_canceled', True)]),\n",
       " OrderedDict([('account_key', '727'),\n",
       "              ('status', 'canceled'),\n",
       "              ('join_date', datetime.datetime(2014, 12, 7, 0, 0)),\n",
       "              ('cancel_date', datetime.datetime(2014, 12, 7, 0, 0)),\n",
       "              ('days_to_cancel', 0),\n",
       "              ('is_udacity', False),\n",
       "              ('is_canceled', True)]),\n",
       " OrderedDict([('account_key', '1273'),\n",
       "              ('status', 'canceled'),\n",
       "              ('join_date', datetime.datetime(2015, 1, 12, 0, 0)),\n",
       "              ('cancel_date', datetime.datetime(2015, 1, 12, 0, 0)),\n",
       "              ('days_to_cancel', 0),\n",
       "              ('is_udacity', False),\n",
       "              ('is_canceled', True)]),\n",
       " OrderedDict([('account_key', '1238'),\n",
       "              ('status', 'canceled'),\n",
       "              ('join_date', datetime.datetime(2014, 11, 10, 0, 0)),\n",
       "              ('cancel_date', datetime.datetime(2014, 11, 10, 0, 0)),\n",
       "              ('days_to_cancel', 0),\n",
       "              ('is_udacity', False),\n",
       "              ('is_canceled', True)]),\n",
       " OrderedDict([('account_key', '1044'),\n",
       "              ('status', 'canceled'),\n",
       "              ('join_date', datetime.datetime(2015, 2, 8, 0, 0)),\n",
       "              ('cancel_date', datetime.datetime(2015, 2, 8, 0, 0)),\n",
       "              ('days_to_cancel', 0),\n",
       "              ('is_udacity', False),\n",
       "              ('is_canceled', True)]),\n",
       " OrderedDict([('account_key', '749'),\n",
       "              ('status', 'canceled'),\n",
       "              ('join_date', datetime.datetime(2015, 3, 5, 0, 0)),\n",
       "              ('cancel_date', datetime.datetime(2015, 3, 5, 0, 0)),\n",
       "              ('days_to_cancel', 0),\n",
       "              ('is_udacity', False),\n",
       "              ('is_canceled', True)]),\n",
       " OrderedDict([('account_key', '1129'),\n",
       "              ('status', 'canceled'),\n",
       "              ('join_date', datetime.datetime(2015, 3, 7, 0, 0)),\n",
       "              ('cancel_date', datetime.datetime(2015, 3, 7, 0, 0)),\n",
       "              ('days_to_cancel', 0),\n",
       "              ('is_udacity', False),\n",
       "              ('is_canceled', True)]),\n",
       " OrderedDict([('account_key', '1129'),\n",
       "              ('status', 'canceled'),\n",
       "              ('join_date', datetime.datetime(2015, 2, 11, 0, 0)),\n",
       "              ('cancel_date', datetime.datetime(2015, 2, 11, 0, 0)),\n",
       "              ('days_to_cancel', 0),\n",
       "              ('is_udacity', False),\n",
       "              ('is_canceled', True)]),\n",
       " OrderedDict([('account_key', '926'),\n",
       "              ('status', 'canceled'),\n",
       "              ('join_date', datetime.datetime(2015, 4, 6, 0, 0)),\n",
       "              ('cancel_date', datetime.datetime(2015, 4, 6, 0, 0)),\n",
       "              ('days_to_cancel', 0),\n",
       "              ('is_udacity', False),\n",
       "              ('is_canceled', True)]),\n",
       " OrderedDict([('account_key', '711'),\n",
       "              ('status', 'canceled'),\n",
       "              ('join_date', datetime.datetime(2015, 5, 8, 0, 0)),\n",
       "              ('cancel_date', datetime.datetime(2015, 5, 8, 0, 0)),\n",
       "              ('days_to_cancel', 0),\n",
       "              ('is_udacity', False),\n",
       "              ('is_canceled', True)]),\n",
       " OrderedDict([('account_key', '803'),\n",
       "              ('status', 'canceled'),\n",
       "              ('join_date', datetime.datetime(2015, 1, 8, 0, 0)),\n",
       "              ('cancel_date', datetime.datetime(2015, 1, 8, 0, 0)),\n",
       "              ('days_to_cancel', 0),\n",
       "              ('is_udacity', False),\n",
       "              ('is_canceled', True)]),\n",
       " OrderedDict([('account_key', '799'),\n",
       "              ('status', 'canceled'),\n",
       "              ('join_date', datetime.datetime(2015, 2, 6, 0, 0)),\n",
       "              ('cancel_date', datetime.datetime(2015, 2, 6, 0, 0)),\n",
       "              ('days_to_cancel', 0),\n",
       "              ('is_udacity', False),\n",
       "              ('is_canceled', True)]),\n",
       " OrderedDict([('account_key', '789'),\n",
       "              ('status', 'canceled'),\n",
       "              ('join_date', datetime.datetime(2015, 2, 6, 0, 0)),\n",
       "              ('cancel_date', datetime.datetime(2015, 2, 6, 0, 0)),\n",
       "              ('days_to_cancel', 0),\n",
       "              ('is_udacity', False),\n",
       "              ('is_canceled', True)]),\n",
       " OrderedDict([('account_key', '819'),\n",
       "              ('status', 'canceled'),\n",
       "              ('join_date', datetime.datetime(2015, 3, 4, 0, 0)),\n",
       "              ('cancel_date', datetime.datetime(2015, 3, 4, 0, 0)),\n",
       "              ('days_to_cancel', 0),\n",
       "              ('is_udacity', False),\n",
       "              ('is_canceled', True)]),\n",
       " OrderedDict([('account_key', '819'),\n",
       "              ('status', 'canceled'),\n",
       "              ('join_date', datetime.datetime(2015, 3, 4, 0, 0)),\n",
       "              ('cancel_date', datetime.datetime(2015, 3, 4, 0, 0)),\n",
       "              ('days_to_cancel', 0),\n",
       "              ('is_udacity', False),\n",
       "              ('is_canceled', True)]),\n",
       " OrderedDict([('account_key', '902'),\n",
       "              ('status', 'canceled'),\n",
       "              ('join_date', datetime.datetime(2015, 5, 29, 0, 0)),\n",
       "              ('cancel_date', datetime.datetime(2015, 5, 29, 0, 0)),\n",
       "              ('days_to_cancel', 0),\n",
       "              ('is_udacity', False),\n",
       "              ('is_canceled', True)]),\n",
       " OrderedDict([('account_key', '996'),\n",
       "              ('status', 'canceled'),\n",
       "              ('join_date', datetime.datetime(2015, 5, 29, 0, 0)),\n",
       "              ('cancel_date', datetime.datetime(2015, 5, 29, 0, 0)),\n",
       "              ('days_to_cancel', 0),\n",
       "              ('is_udacity', False),\n",
       "              ('is_canceled', True)]),\n",
       " OrderedDict([('account_key', '1213'),\n",
       "              ('status', 'canceled'),\n",
       "              ('join_date', datetime.datetime(2015, 1, 12, 0, 0)),\n",
       "              ('cancel_date', datetime.datetime(2015, 1, 12, 0, 0)),\n",
       "              ('days_to_cancel', 0),\n",
       "              ('is_udacity', False),\n",
       "              ('is_canceled', True)]),\n",
       " OrderedDict([('account_key', '733'),\n",
       "              ('status', 'canceled'),\n",
       "              ('join_date', datetime.datetime(2015, 1, 12, 0, 0)),\n",
       "              ('cancel_date', datetime.datetime(2015, 1, 12, 0, 0)),\n",
       "              ('days_to_cancel', 0),\n",
       "              ('is_udacity', False),\n",
       "              ('is_canceled', True)]),\n",
       " OrderedDict([('account_key', '1237'),\n",
       "              ('status', 'canceled'),\n",
       "              ('join_date', datetime.datetime(2015, 5, 28, 0, 0)),\n",
       "              ('cancel_date', datetime.datetime(2015, 5, 28, 0, 0)),\n",
       "              ('days_to_cancel', 0),\n",
       "              ('is_udacity', False),\n",
       "              ('is_canceled', True)]),\n",
       " OrderedDict([('account_key', '1069'),\n",
       "              ('status', 'canceled'),\n",
       "              ('join_date', datetime.datetime(2015, 6, 1, 0, 0)),\n",
       "              ('cancel_date', datetime.datetime(2015, 6, 1, 0, 0)),\n",
       "              ('days_to_cancel', 0),\n",
       "              ('is_udacity', True),\n",
       "              ('is_canceled', True)]),\n",
       " OrderedDict([('account_key', '1086'),\n",
       "              ('status', 'canceled'),\n",
       "              ('join_date', datetime.datetime(2015, 6, 9, 0, 0)),\n",
       "              ('cancel_date', datetime.datetime(2015, 6, 9, 0, 0)),\n",
       "              ('days_to_cancel', 0),\n",
       "              ('is_udacity', False),\n",
       "              ('is_canceled', True)]),\n",
       " OrderedDict([('account_key', '1190'),\n",
       "              ('status', 'canceled'),\n",
       "              ('join_date', datetime.datetime(2015, 3, 6, 0, 0)),\n",
       "              ('cancel_date', datetime.datetime(2015, 3, 6, 0, 0)),\n",
       "              ('days_to_cancel', 0),\n",
       "              ('is_udacity', False),\n",
       "              ('is_canceled', True)]),\n",
       " OrderedDict([('account_key', '914'),\n",
       "              ('status', 'canceled'),\n",
       "              ('join_date', datetime.datetime(2015, 4, 2, 0, 0)),\n",
       "              ('cancel_date', datetime.datetime(2015, 4, 2, 0, 0)),\n",
       "              ('days_to_cancel', 0),\n",
       "              ('is_udacity', False),\n",
       "              ('is_canceled', True)]),\n",
       " OrderedDict([('account_key', '914'),\n",
       "              ('status', 'canceled'),\n",
       "              ('join_date', datetime.datetime(2015, 7, 17, 0, 0)),\n",
       "              ('cancel_date', datetime.datetime(2015, 7, 17, 0, 0)),\n",
       "              ('days_to_cancel', 0),\n",
       "              ('is_udacity', False),\n",
       "              ('is_canceled', True)]),\n",
       " OrderedDict([('account_key', '968'),\n",
       "              ('status', 'canceled'),\n",
       "              ('join_date', datetime.datetime(2015, 7, 17, 0, 0)),\n",
       "              ('cancel_date', datetime.datetime(2015, 7, 17, 0, 0)),\n",
       "              ('days_to_cancel', 0),\n",
       "              ('is_udacity', False),\n",
       "              ('is_canceled', True)]),\n",
       " OrderedDict([('account_key', '1155'),\n",
       "              ('status', 'canceled'),\n",
       "              ('join_date', datetime.datetime(2015, 7, 17, 0, 0)),\n",
       "              ('cancel_date', datetime.datetime(2015, 7, 17, 0, 0)),\n",
       "              ('days_to_cancel', 0),\n",
       "              ('is_udacity', False),\n",
       "              ('is_canceled', True)]),\n",
       " OrderedDict([('account_key', '766'),\n",
       "              ('status', 'canceled'),\n",
       "              ('join_date', datetime.datetime(2015, 5, 10, 0, 0)),\n",
       "              ('cancel_date', datetime.datetime(2015, 5, 10, 0, 0)),\n",
       "              ('days_to_cancel', 0),\n",
       "              ('is_udacity', False),\n",
       "              ('is_canceled', True)]),\n",
       " OrderedDict([('account_key', '739'),\n",
       "              ('status', 'canceled'),\n",
       "              ('join_date', datetime.datetime(2015, 4, 5, 0, 0)),\n",
       "              ('cancel_date', datetime.datetime(2015, 4, 5, 0, 0)),\n",
       "              ('days_to_cancel', 0),\n",
       "              ('is_udacity', False),\n",
       "              ('is_canceled', True)]),\n",
       " OrderedDict([('account_key', '1222'),\n",
       "              ('status', 'canceled'),\n",
       "              ('join_date', datetime.datetime(2015, 4, 7, 0, 0)),\n",
       "              ('cancel_date', datetime.datetime(2015, 4, 7, 0, 0)),\n",
       "              ('days_to_cancel', 0),\n",
       "              ('is_udacity', False),\n",
       "              ('is_canceled', True)]),\n",
       " OrderedDict([('account_key', '1125'),\n",
       "              ('status', 'canceled'),\n",
       "              ('join_date', datetime.datetime(2015, 5, 31, 0, 0)),\n",
       "              ('cancel_date', datetime.datetime(2015, 5, 31, 0, 0)),\n",
       "              ('days_to_cancel', 0),\n",
       "              ('is_udacity', False),\n",
       "              ('is_canceled', True)]),\n",
       " OrderedDict([('account_key', '1025'),\n",
       "              ('status', 'canceled'),\n",
       "              ('join_date', datetime.datetime(2015, 6, 7, 0, 0)),\n",
       "              ('cancel_date', datetime.datetime(2015, 6, 7, 0, 0)),\n",
       "              ('days_to_cancel', 0),\n",
       "              ('is_udacity', False),\n",
       "              ('is_canceled', True)]),\n",
       " OrderedDict([('account_key', '750'),\n",
       "              ('status', 'canceled'),\n",
       "              ('join_date', datetime.datetime(2015, 6, 6, 0, 0)),\n",
       "              ('cancel_date', datetime.datetime(2015, 6, 6, 0, 0)),\n",
       "              ('days_to_cancel', 0),\n",
       "              ('is_udacity', False),\n",
       "              ('is_canceled', True)]),\n",
       " OrderedDict([('account_key', '889'),\n",
       "              ('status', 'canceled'),\n",
       "              ('join_date', datetime.datetime(2015, 8, 11, 0, 0)),\n",
       "              ('cancel_date', datetime.datetime(2015, 8, 11, 0, 0)),\n",
       "              ('days_to_cancel', 0),\n",
       "              ('is_udacity', False),\n",
       "              ('is_canceled', True)]),\n",
       " OrderedDict([('account_key', '737'),\n",
       "              ('status', 'canceled'),\n",
       "              ('join_date', datetime.datetime(2014, 11, 10, 0, 0)),\n",
       "              ('cancel_date', datetime.datetime(2014, 11, 10, 0, 0)),\n",
       "              ('days_to_cancel', 0),\n",
       "              ('is_udacity', False),\n",
       "              ('is_canceled', True)]),\n",
       " OrderedDict([('account_key', '878'),\n",
       "              ('status', 'canceled'),\n",
       "              ('join_date', datetime.datetime(2014, 11, 10, 0, 0)),\n",
       "              ('cancel_date', datetime.datetime(2014, 11, 10, 0, 0)),\n",
       "              ('days_to_cancel', 0),\n",
       "              ('is_udacity', False),\n",
       "              ('is_canceled', True)]),\n",
       " OrderedDict([('account_key', '981'),\n",
       "              ('status', 'canceled'),\n",
       "              ('join_date', datetime.datetime(2015, 2, 7, 0, 0)),\n",
       "              ('cancel_date', datetime.datetime(2015, 2, 7, 0, 0)),\n",
       "              ('days_to_cancel', 0),\n",
       "              ('is_udacity', False),\n",
       "              ('is_canceled', True)]),\n",
       " OrderedDict([('account_key', '1101'),\n",
       "              ('status', 'current'),\n",
       "              ('join_date', datetime.datetime(2015, 2, 25, 0, 0)),\n",
       "              ('cancel_date', None),\n",
       "              ('days_to_cancel', None),\n",
       "              ('is_udacity', True),\n",
       "              ('is_canceled', False)]),\n",
       " OrderedDict([('account_key', '1148'),\n",
       "              ('status', 'canceled'),\n",
       "              ('join_date', datetime.datetime(2015, 3, 9, 0, 0)),\n",
       "              ('cancel_date', datetime.datetime(2015, 3, 9, 0, 0)),\n",
       "              ('days_to_cancel', 0),\n",
       "              ('is_udacity', False),\n",
       "              ('is_canceled', True)]),\n",
       " OrderedDict([('account_key', '1186'),\n",
       "              ('status', 'canceled'),\n",
       "              ('join_date', datetime.datetime(2015, 3, 11, 0, 0)),\n",
       "              ('cancel_date', datetime.datetime(2015, 3, 11, 0, 0)),\n",
       "              ('days_to_cancel', 0),\n",
       "              ('is_udacity', False),\n",
       "              ('is_canceled', True)]),\n",
       " OrderedDict([('account_key', '725'),\n",
       "              ('status', 'canceled'),\n",
       "              ('join_date', datetime.datetime(2014, 12, 6, 0, 0)),\n",
       "              ('cancel_date', datetime.datetime(2014, 12, 6, 0, 0)),\n",
       "              ('days_to_cancel', 0),\n",
       "              ('is_udacity', False),\n",
       "              ('is_canceled', True)]),\n",
       " OrderedDict([('account_key', '1145'),\n",
       "              ('status', 'canceled'),\n",
       "              ('join_date', datetime.datetime(2015, 4, 4, 0, 0)),\n",
       "              ('cancel_date', datetime.datetime(2015, 4, 4, 0, 0)),\n",
       "              ('days_to_cancel', 0),\n",
       "              ('is_udacity', False),\n",
       "              ('is_canceled', True)]),\n",
       " OrderedDict([('account_key', '802'),\n",
       "              ('status', 'canceled'),\n",
       "              ('join_date', datetime.datetime(2015, 1, 8, 0, 0)),\n",
       "              ('cancel_date', datetime.datetime(2015, 1, 8, 0, 0)),\n",
       "              ('days_to_cancel', 0),\n",
       "              ('is_udacity', False),\n",
       "              ('is_canceled', True)]),\n",
       " OrderedDict([('account_key', '664'),\n",
       "              ('status', 'canceled'),\n",
       "              ('join_date', datetime.datetime(2015, 1, 8, 0, 0)),\n",
       "              ('cancel_date', datetime.datetime(2015, 1, 8, 0, 0)),\n",
       "              ('days_to_cancel', 0),\n",
       "              ('is_udacity', False),\n",
       "              ('is_canceled', True)]),\n",
       " OrderedDict([('account_key', '997'),\n",
       "              ('status', 'canceled'),\n",
       "              ('join_date', datetime.datetime(2015, 1, 12, 0, 0)),\n",
       "              ('cancel_date', datetime.datetime(2015, 1, 12, 0, 0)),\n",
       "              ('days_to_cancel', 0),\n",
       "              ('is_udacity', False),\n",
       "              ('is_canceled', True)]),\n",
       " OrderedDict([('account_key', '870'),\n",
       "              ('status', 'canceled'),\n",
       "              ('join_date', datetime.datetime(2015, 5, 12, 0, 0)),\n",
       "              ('cancel_date', datetime.datetime(2015, 5, 12, 0, 0)),\n",
       "              ('days_to_cancel', 0),\n",
       "              ('is_udacity', False),\n",
       "              ('is_canceled', True)]),\n",
       " OrderedDict([('account_key', '1284'),\n",
       "              ('status', 'canceled'),\n",
       "              ('join_date', datetime.datetime(2015, 1, 13, 0, 0)),\n",
       "              ('cancel_date', datetime.datetime(2015, 1, 13, 0, 0)),\n",
       "              ('days_to_cancel', 0),\n",
       "              ('is_udacity', False),\n",
       "              ('is_canceled', True)]),\n",
       " OrderedDict([('account_key', '1079'),\n",
       "              ('status', 'canceled'),\n",
       "              ('join_date', datetime.datetime(2015, 2, 9, 0, 0)),\n",
       "              ('cancel_date', datetime.datetime(2015, 2, 9, 0, 0)),\n",
       "              ('days_to_cancel', 0),\n",
       "              ('is_udacity', False),\n",
       "              ('is_canceled', True)]),\n",
       " OrderedDict([('account_key', '1063'),\n",
       "              ('status', 'canceled'),\n",
       "              ('join_date', datetime.datetime(2015, 7, 14, 0, 0)),\n",
       "              ('cancel_date', datetime.datetime(2015, 7, 14, 0, 0)),\n",
       "              ('days_to_cancel', 0),\n",
       "              ('is_udacity', False),\n",
       "              ('is_canceled', True)]),\n",
       " OrderedDict([('account_key', '1270'),\n",
       "              ('status', 'canceled'),\n",
       "              ('join_date', datetime.datetime(2015, 7, 20, 0, 0)),\n",
       "              ('cancel_date', datetime.datetime(2015, 7, 20, 0, 0)),\n",
       "              ('days_to_cancel', 0),\n",
       "              ('is_udacity', False),\n",
       "              ('is_canceled', True)]),\n",
       " OrderedDict([('account_key', '1291'),\n",
       "              ('status', 'canceled'),\n",
       "              ('join_date', datetime.datetime(2015, 6, 3, 0, 0)),\n",
       "              ('cancel_date', datetime.datetime(2015, 6, 3, 0, 0)),\n",
       "              ('days_to_cancel', 0),\n",
       "              ('is_udacity', False),\n",
       "              ('is_canceled', True)]),\n",
       " OrderedDict([('account_key', '1241'),\n",
       "              ('status', 'canceled'),\n",
       "              ('join_date', datetime.datetime(2015, 6, 9, 0, 0)),\n",
       "              ('cancel_date', datetime.datetime(2015, 6, 9, 0, 0)),\n",
       "              ('days_to_cancel', 0),\n",
       "              ('is_udacity', False),\n",
       "              ('is_canceled', True)])]"
      ]
     },
     "execution_count": 20,
     "metadata": {},
     "output_type": "execute_result"
    }
   ],
   "source": [
    "# Let's find out the students who are not in engagement unique table.\n",
    "\n",
    "enrollment_who_not_in_engagement_unique = []\n",
    "\n",
    "for enrollment in enrollments:\n",
    "    student = enrollment['account_key']\n",
    "    if student in engagement_unique_student:\n",
    "        continue\n",
    "    else:\n",
    "        enrollment_who_not_in_engagement_unique.append(enrollment) \n",
    "        \n",
    "enrollment_who_not_in_engagement_unique"
   ]
  },
  {
   "cell_type": "markdown",
   "metadata": {},
   "source": [
    "As we can there are lot of poeple have same date of join and cancel date!!"
   ]
  },
  {
   "cell_type": "code",
   "execution_count": 21,
   "metadata": {},
   "outputs": [
    {
     "name": "stdout",
     "output_type": "stream",
     "text": [
      "OrderedDict([('account_key', '1304'), ('status', 'canceled'), ('join_date', datetime.datetime(2015, 1, 10, 0, 0)), ('cancel_date', datetime.datetime(2015, 3, 10, 0, 0)), ('days_to_cancel', 59), ('is_udacity', True), ('is_canceled', True)])\n",
      "OrderedDict([('account_key', '1304'), ('status', 'canceled'), ('join_date', datetime.datetime(2015, 3, 10, 0, 0)), ('cancel_date', datetime.datetime(2015, 6, 17, 0, 0)), ('days_to_cancel', 99), ('is_udacity', True), ('is_canceled', True)])\n",
      "OrderedDict([('account_key', '1101'), ('status', 'current'), ('join_date', datetime.datetime(2015, 2, 25, 0, 0)), ('cancel_date', None), ('days_to_cancel', None), ('is_udacity', True), ('is_canceled', False)])\n",
      "3\n"
     ]
    }
   ],
   "source": [
    "# let's check the students who they have different join date and cancel date\n",
    "\n",
    "num_student = 0\n",
    "\n",
    "for enrollment in enrollments:\n",
    "    student = enrollment['account_key']\n",
    "    if student not in engagement_unique_student and \\\n",
    "    enrollment['join_date'] != enrollment['cancel_date']:\n",
    "        num_student+=1\n",
    "        print(enrollment)\n",
    "\n",
    "print(num_student)"
   ]
  },
  {
   "cell_type": "code",
   "execution_count": 22,
   "metadata": {},
   "outputs": [
    {
     "name": "stdout",
     "output_type": "stream",
     "text": [
      "{'818', '1304', '448', '1101', '312', '1069'}\n"
     ]
    }
   ],
   "source": [
    "# Check the account keys for all Udacity test accounts\n",
    "udacity_accounts = set()\n",
    "for udacity in enrollments:\n",
    "    if udacity[\"is_udacity\"] == True:\n",
    "        udacity_accounts.add(udacity[\"account_key\"])\n",
    "print(udacity_accounts)"
   ]
  },
  {
   "cell_type": "code",
   "execution_count": 27,
   "metadata": {},
   "outputs": [],
   "source": [
    "# Given some data with an account_key field, removes any records corresponding to Udacity test accounts\n",
    "def remove_udacity_acoounts(data):\n",
    "    non_udacity_accounts = []\n",
    "    for data_point in data:\n",
    "        if data_point['account_key'] not in udacity_accounts:\n",
    "            non_udacity_accounts.append(data_point)\n",
    "    return non_udacity_accounts"
   ]
  },
  {
   "cell_type": "code",
   "execution_count": 28,
   "metadata": {},
   "outputs": [],
   "source": [
    "non_udacity_enrollements = remove_udacity_acoounts(enrollments)\n",
    "non_udacity_engagments = remove_udacity_acoounts(daily_engagement)\n",
    "non_udacity_submissions = remove_udacity_acoounts(project_submissions)"
   ]
  },
  {
   "cell_type": "code",
   "execution_count": 29,
   "metadata": {},
   "outputs": [
    {
     "name": "stdout",
     "output_type": "stream",
     "text": [
      "The number of non udaicty students in enrollment table is 1622\n",
      "The number of non udaicty students in daily engagment table is 135656\n",
      "The number of non udaicty students in project submissions table is 3634\n"
     ]
    }
   ],
   "source": [
    "print('The number of non udaicty students in enrollment table is {}'.format(len(non_udacity_enrollements)))\n",
    "print('The number of non udaicty students in daily engagment table is {}'.format(len(non_udacity_engagments)))\n",
    "print('The number of non udaicty students in project submissions table is {}'.format(len(non_udacity_submissions)))"
   ]
  },
  {
   "cell_type": "code",
   "execution_count": 80,
   "metadata": {},
   "outputs": [
    {
     "data": {
      "text/html": [
       "<div>\n",
       "<style scoped>\n",
       "    .dataframe tbody tr th:only-of-type {\n",
       "        vertical-align: middle;\n",
       "    }\n",
       "\n",
       "    .dataframe tbody tr th {\n",
       "        vertical-align: top;\n",
       "    }\n",
       "\n",
       "    .dataframe thead th {\n",
       "        text-align: right;\n",
       "    }\n",
       "</style>\n",
       "<table border=\"1\" class=\"dataframe\">\n",
       "  <thead>\n",
       "    <tr style=\"text-align: right;\">\n",
       "      <th></th>\n",
       "      <th>account_key</th>\n",
       "      <th>status</th>\n",
       "      <th>join_date</th>\n",
       "      <th>cancel_date</th>\n",
       "      <th>days_to_cancel</th>\n",
       "      <th>is_udacity</th>\n",
       "      <th>is_canceled</th>\n",
       "    </tr>\n",
       "  </thead>\n",
       "  <tbody>\n",
       "    <tr>\n",
       "      <th>0</th>\n",
       "      <td>429</td>\n",
       "      <td>canceled</td>\n",
       "      <td>2014-11-10</td>\n",
       "      <td>2015-03-10</td>\n",
       "      <td>120.0</td>\n",
       "      <td>False</td>\n",
       "      <td>True</td>\n",
       "    </tr>\n",
       "    <tr>\n",
       "      <th>1</th>\n",
       "      <td>429</td>\n",
       "      <td>canceled</td>\n",
       "      <td>2015-03-10</td>\n",
       "      <td>2015-06-17</td>\n",
       "      <td>99.0</td>\n",
       "      <td>False</td>\n",
       "      <td>True</td>\n",
       "    </tr>\n",
       "    <tr>\n",
       "      <th>2</th>\n",
       "      <td>60</td>\n",
       "      <td>canceled</td>\n",
       "      <td>2014-11-10</td>\n",
       "      <td>2015-01-14</td>\n",
       "      <td>65.0</td>\n",
       "      <td>False</td>\n",
       "      <td>True</td>\n",
       "    </tr>\n",
       "    <tr>\n",
       "      <th>3</th>\n",
       "      <td>60</td>\n",
       "      <td>canceled</td>\n",
       "      <td>2015-01-14</td>\n",
       "      <td>2015-04-01</td>\n",
       "      <td>77.0</td>\n",
       "      <td>False</td>\n",
       "      <td>True</td>\n",
       "    </tr>\n",
       "    <tr>\n",
       "      <th>4</th>\n",
       "      <td>60</td>\n",
       "      <td>current</td>\n",
       "      <td>2015-04-01</td>\n",
       "      <td>NaT</td>\n",
       "      <td>NaN</td>\n",
       "      <td>False</td>\n",
       "      <td>False</td>\n",
       "    </tr>\n",
       "    <tr>\n",
       "      <th>...</th>\n",
       "      <td>...</td>\n",
       "      <td>...</td>\n",
       "      <td>...</td>\n",
       "      <td>...</td>\n",
       "      <td>...</td>\n",
       "      <td>...</td>\n",
       "      <td>...</td>\n",
       "    </tr>\n",
       "    <tr>\n",
       "      <th>1288</th>\n",
       "      <td>751</td>\n",
       "      <td>current</td>\n",
       "      <td>2015-08-11</td>\n",
       "      <td>NaT</td>\n",
       "      <td>NaN</td>\n",
       "      <td>False</td>\n",
       "      <td>False</td>\n",
       "    </tr>\n",
       "    <tr>\n",
       "      <th>1289</th>\n",
       "      <td>1176</td>\n",
       "      <td>current</td>\n",
       "      <td>2015-08-12</td>\n",
       "      <td>NaT</td>\n",
       "      <td>NaN</td>\n",
       "      <td>False</td>\n",
       "      <td>False</td>\n",
       "    </tr>\n",
       "    <tr>\n",
       "      <th>1290</th>\n",
       "      <td>1110</td>\n",
       "      <td>current</td>\n",
       "      <td>2015-08-13</td>\n",
       "      <td>NaT</td>\n",
       "      <td>NaN</td>\n",
       "      <td>False</td>\n",
       "      <td>False</td>\n",
       "    </tr>\n",
       "    <tr>\n",
       "      <th>1291</th>\n",
       "      <td>874</td>\n",
       "      <td>current</td>\n",
       "      <td>2015-08-22</td>\n",
       "      <td>NaT</td>\n",
       "      <td>NaN</td>\n",
       "      <td>False</td>\n",
       "      <td>False</td>\n",
       "    </tr>\n",
       "    <tr>\n",
       "      <th>1292</th>\n",
       "      <td>686</td>\n",
       "      <td>current</td>\n",
       "      <td>2015-08-23</td>\n",
       "      <td>NaT</td>\n",
       "      <td>NaN</td>\n",
       "      <td>False</td>\n",
       "      <td>False</td>\n",
       "    </tr>\n",
       "  </tbody>\n",
       "</table>\n",
       "<p>1293 rows × 7 columns</p>\n",
       "</div>"
      ],
      "text/plain": [
       "     account_key    status  join_date cancel_date  days_to_cancel  is_udacity  \\\n",
       "0            429  canceled 2014-11-10  2015-03-10           120.0       False   \n",
       "1            429  canceled 2015-03-10  2015-06-17            99.0       False   \n",
       "2             60  canceled 2014-11-10  2015-01-14            65.0       False   \n",
       "3             60  canceled 2015-01-14  2015-04-01            77.0       False   \n",
       "4             60   current 2015-04-01         NaT             NaN       False   \n",
       "...          ...       ...        ...         ...             ...         ...   \n",
       "1288         751   current 2015-08-11         NaT             NaN       False   \n",
       "1289        1176   current 2015-08-12         NaT             NaN       False   \n",
       "1290        1110   current 2015-08-13         NaT             NaN       False   \n",
       "1291         874   current 2015-08-22         NaT             NaN       False   \n",
       "1292         686   current 2015-08-23         NaT             NaN       False   \n",
       "\n",
       "      is_canceled  \n",
       "0            True  \n",
       "1            True  \n",
       "2            True  \n",
       "3            True  \n",
       "4           False  \n",
       "...           ...  \n",
       "1288        False  \n",
       "1289        False  \n",
       "1290        False  \n",
       "1291        False  \n",
       "1292        False  \n",
       "\n",
       "[1293 rows x 7 columns]"
      ]
     },
     "execution_count": 80,
     "metadata": {},
     "output_type": "execute_result"
    }
   ],
   "source": [
    "enrollments_df = pd.DataFrame(paid_enrollments)\n",
    "enrollments_df"
   ]
  },
  {
   "cell_type": "code",
   "execution_count": 64,
   "metadata": {},
   "outputs": [
    {
     "name": "stdout",
     "output_type": "stream",
     "text": [
      "The total students who haven't cancel the enrollment or still remained enrolled for more than seven days are: 995\n"
     ]
    }
   ],
   "source": [
    "# Create a dictionary containing all the students who either haven't cancel yet or remained enrolled for more than 7 days.\n",
    "\n",
    "paid_students = {}\n",
    "\n",
    "for data_point in non_udacity_enrollements:\n",
    "    if data_point[\"is_canceled\"]== False or data_point[\"days_to_cancel\"] > 7:\n",
    "        account_key = data_point[\"account_key\"]\n",
    "        date = data_point[\"join_date\"]\n",
    "        \n",
    "        paid_students[account_key] = date\n",
    "        \n",
    "print(\"The total students who haven't cancel the enrollment or still remained enrolled for more than seven days are: {}\".format(len(paid_students)))  "
   ]
  },
  {
   "cell_type": "markdown",
   "metadata": {},
   "source": [
    "### Getting data from first week"
   ]
  },
  {
   "cell_type": "code",
   "execution_count": 69,
   "metadata": {},
   "outputs": [],
   "source": [
    "def remove_free_trial_cancels(data):\n",
    "    new_data = []\n",
    "    for data_point in data:\n",
    "        if data_point['account_key'] in paid_students:\n",
    "            new_data.append(data_point)\n",
    "            \n",
    "    return new_data"
   ]
  },
  {
   "cell_type": "code",
   "execution_count": 73,
   "metadata": {},
   "outputs": [],
   "source": [
    "paid_enrollments = remove_free_trial_cancels(non_udacity_enrollements)\n",
    "paid_engagements = remove_free_trial_cancels(non_udacity_engagments)\n",
    "paid_submissions = remove_free_trial_cancels(non_udacity_submissions)"
   ]
  },
  {
   "cell_type": "code",
   "execution_count": 74,
   "metadata": {},
   "outputs": [
    {
     "name": "stdout",
     "output_type": "stream",
     "text": [
      "1293\n",
      "134549\n",
      "3642\n"
     ]
    }
   ],
   "source": [
    "print(len(paid_enrollments))\n",
    "print(len(paid_engagements))\n",
    "print(len(project_submissions))"
   ]
  },
  {
   "cell_type": "code",
   "execution_count": 81,
   "metadata": {},
   "outputs": [],
   "source": [
    "# Takes a student's join date and the date of a specific engagement record,\n",
    "# and returns True if that engagement record happened within one week\n",
    "# of the student joining.\n",
    "def within_one_week(join_date, engagement_date):\n",
    "    time_delta = engagement_date - join_date\n",
    "    return time_delta.days < 7 and time_delta.days >= 0"
   ]
  },
  {
   "cell_type": "code",
   "execution_count": 98,
   "metadata": {},
   "outputs": [
    {
     "data": {
      "text/plain": [
       "6920"
      ]
     },
     "execution_count": 98,
     "metadata": {},
     "output_type": "execute_result"
    }
   ],
   "source": [
    "## Create a list of rows from the engagement table including only rows where\n",
    "## the student is one of the paid students you just found, and the date is within\n",
    "## one week of the student's join date.\n",
    "\n",
    "paid_engagements_first_week = []\n",
    "\n",
    "for engagement in paid_engagements:\n",
    "    account_key = engagement[\"account_key\"]\n",
    "    date = paid_students[account_key]\n",
    "    engagement_record_date = engagement[\"utc_date\"]\n",
    "    \n",
    "    if within_one_week(date, engagement_record_date):\n",
    "        paid_engagements_first_week.append(engagement)\n",
    "        \n",
    "len(paid_engagements_first_week)"
   ]
  },
  {
   "cell_type": "code",
   "execution_count": 109,
   "metadata": {},
   "outputs": [
    {
     "data": {
      "text/plain": [
       "995"
      ]
     },
     "execution_count": 109,
     "metadata": {},
     "output_type": "execute_result"
    }
   ],
   "source": [
    "from collections import defaultdict\n",
    "\n",
    "engagment_by_account = set()\n",
    "for engagement in paid_engagements_first_week:\n",
    "    account_key = engagement['account_key']\n",
    "    engagment_by_account.add(engagement['account_key'])\n",
    "len(engagment_by_account)\n",
    "    "
   ]
  },
  {
   "cell_type": "code",
   "execution_count": 110,
   "metadata": {},
   "outputs": [],
   "source": [
    "from collections import defaultdict\n",
    "\n",
    "def group_data(data, key_name):\n",
    "    grouped_data = defaultdict(list)\n",
    "    for data_point in data:\n",
    "        key = data_point[key_name]\n",
    "        grouped_data[key].append(data_point)\n",
    "    return grouped_data"
   ]
  },
  {
   "cell_type": "code",
   "execution_count": 111,
   "metadata": {},
   "outputs": [
    {
     "data": {
      "text/plain": [
       "995"
      ]
     },
     "execution_count": 111,
     "metadata": {},
     "output_type": "execute_result"
    }
   ],
   "source": [
    "engagement_by_account = group_data(paid_engagements_first_week,'account_key')\n",
    "len(engagement_by_account)"
   ]
  },
  {
   "cell_type": "code",
   "execution_count": 116,
   "metadata": {},
   "outputs": [
    {
     "data": {
      "text/plain": [
       "995"
      ]
     },
     "execution_count": 116,
     "metadata": {},
     "output_type": "execute_result"
    }
   ],
   "source": [
    "def sum_grouped_items(grouped_data, field_name):\n",
    "    summed_data = {}\n",
    "    \n",
    "    for key, data_points in grouped_data.items():\n",
    "        total = 0\n",
    "        for data_point in data_points:\n",
    "            total += data_point[field_name]\n",
    "        summed_data[key] = total\n",
    "    \n",
    "    return summed_data\n",
    "\n",
    "total_minutes_by_account = sum_grouped_items(engagement_by_account, 'total_minutes_visited')\n",
    "len(total_minutes_by_account)"
   ]
  },
  {
   "cell_type": "code",
   "execution_count": 113,
   "metadata": {},
   "outputs": [
    {
     "name": "stdout",
     "output_type": "stream",
     "text": [
      "Mean: 305.4147189083705\n",
      "Standard deviation: 405.91261032004155\n",
      "Minimum: 0.0\n",
      "Maximum: 3564.7332644989997\n"
     ]
    }
   ],
   "source": [
    "import numpy as np\n",
    "\n",
    "def describe_data(data):\n",
    "    print('Mean:', np.mean(list(data)))\n",
    "    print('Standard deviation:', np.std(list(data)))\n",
    "    print('Minimum:', np.min(list(data)))\n",
    "    print('Maximum:', np.max(list(data)))\n",
    "    \n",
    "total_minutes = total_minutes_by_account.values()\n",
    "describe_data(total_minutes)"
   ]
  },
  {
   "cell_type": "markdown",
   "metadata": {},
   "source": [
    "## Debugging Data Analysis Code"
   ]
  },
  {
   "cell_type": "code",
   "execution_count": 119,
   "metadata": {},
   "outputs": [
    {
     "name": "stdout",
     "output_type": "stream",
     "text": [
      "3564.7332644989997\n",
      "163\n"
     ]
    }
   ],
   "source": [
    "## Go through a similar process as before to see if there is a problem.\n",
    "## Locate at least one surprising piece of data, output it, and take a look at it.\n",
    "\n",
    "students_with_max_mins = ''\n",
    "max_minutes = 0\n",
    "\n",
    "for student, total_minutes in total_minutes_by_account.items():\n",
    "    if total_minutes > max_minutes:\n",
    "        max_minutes = total_minutes\n",
    "        students_with_max_mins = student\n",
    "        \n",
    "print(max_minutes)\n",
    "print(students_with_max_mins) # account key of the student"
   ]
  },
  {
   "cell_type": "code",
   "execution_count": 120,
   "metadata": {},
   "outputs": [
    {
     "name": "stdout",
     "output_type": "stream",
     "text": [
      "OrderedDict([('utc_date', datetime.datetime(2015, 7, 9, 0, 0)), ('num_courses_visited', 4), ('total_minutes_visited', 850.519339666), ('lessons_completed', 4), ('projects_completed', 0), ('account_key', '163')])\n",
      "OrderedDict([('utc_date', datetime.datetime(2015, 7, 10, 0, 0)), ('num_courses_visited', 6), ('total_minutes_visited', 872.633923334), ('lessons_completed', 6), ('projects_completed', 0), ('account_key', '163')])\n",
      "OrderedDict([('utc_date', datetime.datetime(2015, 7, 11, 0, 0)), ('num_courses_visited', 2), ('total_minutes_visited', 777.018903666), ('lessons_completed', 6), ('projects_completed', 0), ('account_key', '163')])\n",
      "OrderedDict([('utc_date', datetime.datetime(2015, 7, 12, 0, 0)), ('num_courses_visited', 1), ('total_minutes_visited', 294.568774), ('lessons_completed', 2), ('projects_completed', 0), ('account_key', '163')])\n",
      "OrderedDict([('utc_date', datetime.datetime(2015, 7, 13, 0, 0)), ('num_courses_visited', 3), ('total_minutes_visited', 471.2139785), ('lessons_completed', 1), ('projects_completed', 0), ('account_key', '163')])\n",
      "OrderedDict([('utc_date', datetime.datetime(2015, 7, 14, 0, 0)), ('num_courses_visited', 2), ('total_minutes_visited', 298.778345333), ('lessons_completed', 1), ('projects_completed', 0), ('account_key', '163')])\n",
      "OrderedDict([('utc_date', datetime.datetime(2015, 7, 15, 0, 0)), ('num_courses_visited', 0), ('total_minutes_visited', 0.0), ('lessons_completed', 0), ('projects_completed', 0), ('account_key', '163')])\n"
     ]
    }
   ],
   "source": [
    "# Let's find each engagement for the student with max mins of engagements\n",
    "\n",
    "for student in paid_engagements_first_week:\n",
    "    if student['account_key'] == students_with_max_mins:\n",
    "        print(student)"
   ]
  },
  {
   "cell_type": "code",
   "execution_count": null,
   "metadata": {},
   "outputs": [],
   "source": []
  }
 ],
 "metadata": {
  "kernelspec": {
   "display_name": "Python 3",
   "language": "python",
   "name": "python3"
  },
  "language_info": {
   "codemirror_mode": {
    "name": "ipython",
    "version": 3
   },
   "file_extension": ".py",
   "mimetype": "text/x-python",
   "name": "python",
   "nbconvert_exporter": "python",
   "pygments_lexer": "ipython3",
   "version": "3.6.8"
  }
 },
 "nbformat": 4,
 "nbformat_minor": 2
}
